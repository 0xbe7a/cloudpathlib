{
 "cells": [
  {
   "cell_type": "code",
   "execution_count": 52,
   "metadata": {},
   "outputs": [
    {
     "name": "stdout",
     "output_type": "stream",
     "text": [
      "The autoreload extension is already loaded. To reload it, use:\n",
      "  %reload_ext autoreload\n"
     ]
    }
   ],
   "source": [
    "%load_ext autoreload\n",
    "%autoreload 2"
   ]
  },
  {
   "cell_type": "code",
   "execution_count": 53,
   "metadata": {},
   "outputs": [],
   "source": [
    "import cloudpathlib"
   ]
  },
  {
   "cell_type": "code",
   "execution_count": 59,
   "metadata": {},
   "outputs": [],
   "source": [
    "test = cloudpathlib.S3Path(\"s3://drivendata-public-assets/test\")"
   ]
  },
  {
   "cell_type": "code",
   "execution_count": 60,
   "metadata": {},
   "outputs": [
    {
     "data": {
      "text/plain": [
       "False"
      ]
     },
     "execution_count": 60,
     "metadata": {},
     "output_type": "execute_result"
    }
   ],
   "source": [
    "test.exists()"
   ]
  },
  {
   "cell_type": "code",
   "execution_count": 136,
   "metadata": {},
   "outputs": [
    {
     "name": "stderr",
     "output_type": "stream",
     "text": [
      "Exception ignored in: <function CloudPath.__del__ at 0x7f8b2121a040>\n",
      "Traceback (most recent call last):\n",
      "  File \"/Users/bull/code/cloudpathlib/cloudpathlib/cloudpath.py\", line 75, in __del__\n",
      "    if self._handle is not None:\n",
      "AttributeError: 'S3Path' object has no attribute '_handle'\n"
     ]
    }
   ],
   "source": [
    "root = cloudpathlib.S3Path(\"s3://drivendata-public-assets\")"
   ]
  },
  {
   "cell_type": "code",
   "execution_count": 141,
   "metadata": {
    "scrolled": false
   },
   "outputs": [
    {
     "data": {
      "text/plain": [
       "S3Path('s3://drivendata-public-assets/odsc-west-2019/DATA_DICTIONARY.txt')"
      ]
     },
     "execution_count": 141,
     "metadata": {},
     "output_type": "execute_result"
    }
   ],
   "source": [
    "f = [_ for _ in root.glob('**/*.txt')][0]\n",
    "f"
   ]
  },
  {
   "cell_type": "code",
   "execution_count": 142,
   "metadata": {
    "scrolled": true
   },
   "outputs": [
    {
     "data": {
      "text/plain": [
       "'Eviction Lab Data Dictionary\\n\\nAdditional information in our FAQ evictionlab.org/help-faq/\\nFull methodology evictionlab.org/methods/\\n\\nNotes:\\n- All geographies are converted to their 2010 Census FIPS codes, names, and boundaries\\n\\nVariables:\\n\\n- GEOID\\n    - Census FIPS code\\n- name\\n    - Census location name (modified for display on map)\\n- parent-location\\n    - Parent location of given geography.\\n    - USA for states, state for counties and cities, counties for tracts and block groups\\n- population\\n    - Total population\\n    - 2000-2004 use 2000 Census SF1 P001001\\n    - 2005-2009 use 2009 5-year ACS B01003_001E\\n    - 2010 uses 2010 Census P0030001\\n    - 2011-2016 uses 2015 5-year ACS B01003_001E\\n- poverty-rate\\n    - % of the population with income in the past 12 months below the poverty level\\n    - 2000-2004 divides P087002 by P087001 in the 2000 Census summary file 3\\n    - 2005-2009 divides B17010_002E by B17010_001E in 2009 5-year ACS\\n    - 2010 divides B17010_002E by B17010_001E in 2012 5-year ACS\\n    - 2011-2016 divides B17010_002E by B17010_001E in 2015 5-year ACS\\n- pct-renter-occupied\\n    - NOTE: This is not based off of the interpolated renter-occupied-households variable\\n    - % of occupied housing units that are renter-occupied\\n    - 2000-2004 divides H004003 by H003002 in 2000 Census summary file 1\\n    - 2005-2009 divides B25003_003E by B25003_001E in 2009 5-year ACS\\n    - 2010 divides H0040004 by H0040001 in 2010 Census\\n    - 2011-2016 divides B25003_003E by B25003_001E in 2015 5-year ACS\\n- median-gross-rent\\n    - Median gross rent\\n    - 2000-20004 uses 2000 Census summary file 3 H063001\\n    - 2005-2009 uses 2009 5-year ACS B25064_001E\\n    - 2010 uses 2012 5-year ACS B25064_001E\\n    - 2011-2016 uses 2015 5-year ACS B25064_001E\\n- median-household-income\\n    - Median household income\\n    - 2000-2004 uses 2000 Census summary file 3 P053001\\n    - 2005-2009 uses 2009 5-year ACS B19013_001E\\n    - 2010 uses 2012 5-year ACS B19013_001E\\n    - 2011-2016 uses 2015 5-year ACS B19013_001E\\n- median-property-value\\n    - Median property value\\n    - 2000-2004 uses 2000 Census summary file 3 H076001\\n    - 2005-2009 uses 2009 5-year ACS B25077_001E\\n    - 2010 uses 2012 5-year ACS B25077_001E\\n    - 2011-2016 uses 2015 5-year ACS B25077_001E\\n- rent-burden\\n    - Median gross rent as a percentage of household income, max is 50% representing >= 50%\\n    - 2000-2004 uses 2000 Census summary file 3 H070001\\n    - 2005-2009 uses 2009 5-year ACS B25071_001E\\n    - 2010 uses 2012 5-year ACS B25071_001E\\n    - 2011-2016 uses 2015 5-year ACS B25071_001E\\n- pct-white\\n    - % population that is White alone and not Hispanic or Latino\\n    - 2000-2004 divides P008003 by P001001 in 2000 Census summary file 1\\n    - 2005-2009 divides B03002_003E by B01003_001E in 2009 5-year ACS\\n    - 2010 divides P0050003 by P0030001 in 2010 Census\\n    - 2011-2016 divides B03002_003E by B01003_001E in 2015 5-year ACS\\n- pct-af-am\\n    - % population that is Black or African American alone and not Hispanic or Latino\\n    - 2000-2004 divides P008004 by P001001 in 2000 Census summary file 1\\n    - 2005-2009 divides B03002_004E by B01003_001E in 2009 5-year ACS\\n    - 2010 divides P0050004 by P0030001 in 2010 Census\\n    - 2011-2016 divides B03002_004E by B01003_001E in 2015 5-year ACS\\n- pct-hispanic\\n    - % population that is of Hispanic or Latino origin\\n    - 2000-2004 divides P008010 by P001001 in 2000 Census summary file 1\\n    - 2005-2009 divides B03002_012E by B01003_001E in 2009 5-year ACS\\n    - 2010 divides P0040003 by P0030001 in 2010 Census\\n    - 2011-2016 divides B03002_012E by B01003_001E in 2015 5-year ACS\\n- pct-am-ind\\n    - % population that is American Indian and Alaska Native alone and not Hispanic or Latino\\n    - 2000-2004 divides P008005 by P001001 in 2000 Census summary file 1\\n    - 2005-2009 divides B03002_005E by B01003_001E in 2009 5-year ACS\\n    - 2010 divides P0050005 by P0030001 in 2010 Census\\n    - 2011-2016 divides B03002_005E by B01003_001E in 2015 5-year ACS\\n- pct-asian\\n    - % population that is Asian alone and not Hispanic or Latino\\n    - 2000-2004 divides P008006 by P001001 in 2000 Census summary file 1\\n    - 2005-2009 divides B03002_006E by B01003_001E in 2009 5-year ACS\\n    - 2010 divides P0050006 by P0030001 in 2010 Census\\n    - 2011-2016 divides B03002_006E by B01003_001E in 2015 5-year ACS\\n- pct-nh-pi\\n    - % population that is Native Hawaiian and Other Pacific Islander alone and not Hispanic or Latino\\n    - 2000-2004 divides P008007 by P001001 in 2000 Census summary file 1\\n    - 2005-2009 divides B03002_007E by B01003_001E in 2009 5-year ACS\\n    - 2010 divides P0050007 by P0030001 in 2010 Census\\n    - 2011-2016 divides B03002_007E by B01003_001E in 2015 5-year ACS\\n- pct-other\\n    - % population that is other race alone and not Hispanic or Latino\\n    - 2000-2004 divides P008008 by P001001 in 2000 Census summary file 1\\n    - 2005-2009 divides B03002_008E by B01003_001E in 2009 5-year ACS\\n    - 2010 divides P0050008 by P0030001 in 2010 Census\\n    - 2011-2016 divides B03002_008E by B01003_001E in 2015 5-year ACS\\n- pct-multiple\\n    - % population that is two or more races and not Hispanic or Latino\\n    - 2000-2004 divides P008009 by P001001 in 2000 Census summary file 1\\n    - 2005-2009 divides B03002_009E by B01003_001E in 2009 5-year ACS\\n    - 2010 divides P0050009 by P0030001 in 2010 Census\\n    - 2011-2016 divides B03002_009E by B01003_001E in 2015 5-year ACS\\n- renter-occupied-households\\n    - Interpolated count of renter-occupied households\\n    - Based on Census and ESRI Business Analyst demographic estimates\\n- evictions\\n    - Number of eviction judgments in which renters were ordered to leave in a given area and year\\n    - Only counts a single address which received an eviction judgment per year\\n- eviction-filings\\n    - All eviction cases filed in an area, including multiple cases filed against the same address in the same year\\n- eviction-rate\\n    - Ratio of the number of renter-occupied households in an area that received an eviction judgement in which renters were ordered to leave\\n    - Only counts a single address per year which received an eviction judgment\\n- eviction-filing-rate\\n    - Ratio of the number of evictions filed in an area over the number of renter-occupied homes in that area\\n    - Counts all eviction cases filed in an area, including multiple cases filed against the same address in the same year\\n- imputed\\n    - Boolean variable indicating whether eviction numbers and renter-occupied-households were imputed\\n    - 0: false, 1: true\\n- subbed\\n    - Boolean variable indicating whether eviction numbers and renter-occupied-households were pulled from another source other than Eviction Lab sources\\n    - 0: false, 1: true\\n- low-flag\\n    - Boolean variable indicating whether the eviction numbers are estimated to be lower than they are in reality. Based on county estimates for tracts and block groups\\n    - 0: false, 1: true\\n'"
      ]
     },
     "execution_count": 142,
     "metadata": {},
     "output_type": "execute_result"
    }
   ],
   "source": [
    "f.read_text()"
   ]
  },
  {
   "cell_type": "code",
   "execution_count": null,
   "metadata": {},
   "outputs": [],
   "source": []
  }
 ],
 "metadata": {
  "kernelspec": {
   "display_name": "Python 3",
   "language": "python",
   "name": "python3"
  },
  "language_info": {
   "codemirror_mode": {
    "name": "ipython",
    "version": 3
   },
   "file_extension": ".py",
   "mimetype": "text/x-python",
   "name": "python",
   "nbconvert_exporter": "python",
   "pygments_lexer": "ipython3",
   "version": "3.8.5"
  }
 },
 "nbformat": 4,
 "nbformat_minor": 4
}
